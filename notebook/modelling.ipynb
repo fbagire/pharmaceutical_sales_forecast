{
 "cells": [
  {
   "cell_type": "code",
   "execution_count": null,
   "id": "fitting-kruger",
   "metadata": {},
   "outputs": [],
   "source": [
    "import warnings\n",
    "warnings.filterwarnings('ignore')\n",
    "import dvc.api\n",
    "import mlflow\n",
    "import warnings\n",
    "import numpy as np\n",
    "import pandas as pd\n",
    "import matplotlib.pyplot as plt"
   ]
  },
  {
   "cell_type": "code",
   "execution_count": null,
   "id": "exposed-defensive",
   "metadata": {},
   "outputs": [],
   "source": [
    "def load_data_dvc(path, git_revision):\n",
    "\n",
    "    repo = 'https://github.com/fbagire/sales_predict'\n",
    "    version = git_revision\n",
    "\n",
    "    data_url = dvc.api.get_url(path=path, repo=repo, rev=version)\n",
    "\n",
    "    mlflow.set_experiment('sales_predict')\n",
    "\n",
    "    if __name__ == '__main__':\n",
    "        warnings.filterwarnings('ignore')\n",
    "        np.random.seed(40)\n",
    "        with mlflow.start_run(nested=True) as mlrun:\n",
    "            data = pd.read_csv(data_url, index_col=[0])\n",
    "\n",
    "    return data"
   ]
  },
  {
   "cell_type": "code",
   "execution_count": null,
   "id": "exceptional-circus",
   "metadata": {},
   "outputs": [],
   "source": [
    "# git_rev\n",
    "vf = '70a72e7e4cda6da4ab57bb8571e5cc2f3c5366e0'\n",
    "\n",
    "train_df = load_data_dvc('data/train_model.csv', vf)\n",
    "\n",
    "test_df = load_data_dvc('data/test_model.csv', vf)\n",
    "\n",
    "train_df.shape,test_df.shape\n",
    "\n",
    "# ### Data PreProcessing\n",
    "\n",
    "# Remove Missing Values"
   ]
  }
 ],
 "metadata": {
  "hide_input": false,
  "kernelspec": {
   "display_name": "Python 3",
   "language": "python",
   "name": "python3"
  },
  "language_info": {
   "codemirror_mode": {
    "name": "ipython",
    "version": 3
   },
   "file_extension": ".py",
   "mimetype": "text/x-python",
   "name": "python",
   "nbconvert_exporter": "python",
   "pygments_lexer": "ipython3",
   "version": "3.6.5"
  },
  "latex_envs": {
   "LaTeX_envs_menu_present": true,
   "autoclose": false,
   "autocomplete": true,
   "bibliofile": "biblio.bib",
   "cite_by": "apalike",
   "current_citInitial": 1,
   "eqLabelWithNumbers": true,
   "eqNumInitial": 1,
   "hotkeys": {
    "equation": "Ctrl-E",
    "itemize": "Ctrl-I"
   },
   "labels_anchors": false,
   "latex_user_defs": false,
   "report_style_numbering": false,
   "user_envs_cfg": false
  }
 },
 "nbformat": 4,
 "nbformat_minor": 5
}
