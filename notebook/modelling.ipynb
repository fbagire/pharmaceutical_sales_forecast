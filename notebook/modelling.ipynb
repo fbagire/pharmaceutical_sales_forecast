{
 "cells": [
  {
   "cell_type": "code",
   "execution_count": 1,
   "id": "fitting-kruger",
   "metadata": {},
   "outputs": [],
   "source": [
    "import warnings\n",
    "warnings.filterwarnings('ignore')\n",
    "import dvc.api\n",
    "import mlflow\n",
    "import sys\n",
    "import warnings\n",
    "import numpy as np\n",
    "import pandas as pd\n",
    "import matplotlib.pyplot as plt\n",
    "import importlib\n",
    "from sklearn.ensemble import RandomForestRegressor\n",
    "from sklearn.pipeline import Pipeline\n",
    "from sklearn.preprocessing import StandardScaler\n",
    "from datetime import datetime\n",
    "import joblib"
   ]
  },
  {
   "cell_type": "code",
   "execution_count": 2,
   "id": "packed-magnitude",
   "metadata": {},
   "outputs": [],
   "source": [
    "import sys\n",
    "sys.path.append(\"..\")\n",
    "\n",
    "from myscripts import modelprep\n"
   ]
  },
  {
   "cell_type": "code",
   "execution_count": 3,
   "id": "exposed-defensive",
   "metadata": {},
   "outputs": [],
   "source": [
    "def load_data_dvc(path, git_revision):\n",
    "\n",
    "    repo = 'https://github.com/fbagire/sales_predict'\n",
    "    version = git_revision\n",
    "\n",
    "    data_url = dvc.api.get_url(path=path, repo=repo, rev=version)\n",
    "\n",
    "    mlflow.set_experiment('sales_predict')\n",
    "\n",
    "    if __name__ == '__main__':\n",
    "        warnings.filterwarnings('ignore')\n",
    "        np.random.seed(40)\n",
    "        with mlflow.start_run(nested=True) as mlrun:\n",
    "            data = pd.read_csv(data_url, index_col=[0])\n",
    "\n",
    "    return data"
   ]
  },
  {
   "cell_type": "code",
   "execution_count": 4,
   "id": "exceptional-circus",
   "metadata": {},
   "outputs": [
    {
     "data": {
      "text/plain": [
       "((1017209, 19), (41088, 17))"
      ]
     },
     "execution_count": 4,
     "metadata": {},
     "output_type": "execute_result"
    }
   ],
   "source": [
    "# git_rev\n",
    "vf = '70a72e7e4cda6da4ab57bb8571e5cc2f3c5366e0'\n",
    "\n",
    "train_df = load_data_dvc('data/train_model.csv', vf)\n",
    "\n",
    "test_df = load_data_dvc('data/test_model.csv', vf)\n",
    "\n",
    "train_df.shape, test_df.shape\n",
    "\n",
    "# ### Data PreProcessing\n",
    "\n",
    "# Remove Missing Values"
   ]
  },
  {
   "cell_type": "code",
   "execution_count": 5,
   "id": "aggregate-sociology",
   "metadata": {},
   "outputs": [
    {
     "data": {
      "text/plain": [
       "<module 'myscripts.modelprep' from '..\\\\myscripts\\\\modelprep.py'>"
      ]
     },
     "execution_count": 5,
     "metadata": {},
     "output_type": "execute_result"
    }
   ],
   "source": [
    "importlib.reload(modelprep)"
   ]
  },
  {
   "cell_type": "code",
   "execution_count": 6,
   "id": "agricultural-discipline",
   "metadata": {},
   "outputs": [],
   "source": [
    "model_prep = modelprep.Modeller(train_df)"
   ]
  },
  {
   "cell_type": "code",
   "execution_count": 7,
   "id": "creative-cooperative",
   "metadata": {},
   "outputs": [],
   "source": [
    "X_train, X_val, y_train, y_val = model_prep.split_data()"
   ]
  },
  {
   "cell_type": "code",
   "execution_count": 8,
   "id": "satisfactory-huntington",
   "metadata": {},
   "outputs": [],
   "source": [
    "def fetch_logged_data(run_id):\n",
    "    client = mlflow.tracking.MlflowClient()\n",
    "    data = client.get_run(run_id).data\n",
    "    tags = {k: v for k, v in data.tags.items() if not k.startswith(\"mlflow.\")}\n",
    "    artifacts = [f.path for f in client.list_artifacts(run_id, \"model\")]\n",
    "    return data.params, data.metrics, tags, artifacts"
   ]
  },
  {
   "cell_type": "code",
   "execution_count": 9,
   "id": "olive-words",
   "metadata": {},
   "outputs": [],
   "source": [
    "estimators = 25\n",
    "depth = 15\n",
    "pipeline = Pipeline([('scaler', StandardScaler()),\n",
    "                     ('rf_regressor',\n",
    "                      RandomForestRegressor(n_estimators=estimators,\n",
    "                                            max_depth=depth,\n",
    "                                            min_samples_split=2,\n",
    "                                            min_samples_leaf=1))])"
   ]
  },
  {
   "cell_type": "code",
   "execution_count": 10,
   "id": "sporting-cornwall",
   "metadata": {},
   "outputs": [],
   "source": [
    "val='validation_'"
   ]
  },
  {
   "cell_type": "code",
   "execution_count": 11,
   "id": "incorrect-branch",
   "metadata": {},
   "outputs": [],
   "source": [
    "mlflow.set_experiment('sales_predict')\n",
    "mlflow.sklearn.autolog()\n",
    "\n",
    "with mlflow.start_run() as run:\n",
    "\n",
    "    rf_model = pipeline.fit(X_train, y_train)\n",
    "    y_pred = rf_model.predict(X_val)\n",
    "    mse, rmse, r2 = model_prep.error_calculate(y_val, y_pred)\n",
    "    mlflow.log_metrics({val + \"mse\": mse, val + 'rmse': rmse, val + 'r2': r2},step=1)\n",
    "    mlflow.sklearn.log_model(rf_model, \"Regressor model\")"
   ]
  },
  {
   "cell_type": "code",
   "execution_count": 12,
   "id": "ahead-islam",
   "metadata": {},
   "outputs": [],
   "source": [
    "params, metrics, tags, artifacts = fetch_logged_data(run.info.run_id)"
   ]
  },
  {
   "cell_type": "code",
   "execution_count": 13,
   "id": "apparent-second",
   "metadata": {},
   "outputs": [
    {
     "data": {
      "text/plain": [
       "['../models/05-08-2022-13-48-27.pkl']"
      ]
     },
     "execution_count": 13,
     "metadata": {},
     "output_type": "execute_result"
    }
   ],
   "source": [
    "#Model serializing and saving\n",
    "#creating a file name using the now timestamp\n",
    "mdl_tmp = '../models/' + str(\n",
    "    datetime.now().strftime(\"%d-%m-%Y-%H-%M-%S\")) + '.pkl'\n",
    "joblib.dump(rf_model, mdl_tmp)"
   ]
  },
  {
   "cell_type": "markdown",
   "id": "hearing-championship",
   "metadata": {},
   "source": [
    "**Feature Importance**"
   ]
  },
  {
   "cell_type": "code",
   "execution_count": null,
   "id": "ranging-saskatchewan",
   "metadata": {},
   "outputs": [],
   "source": []
  }
 ],
 "metadata": {
  "hide_input": false,
  "kernelspec": {
   "display_name": "Python 3",
   "language": "python",
   "name": "python3"
  },
  "language_info": {
   "codemirror_mode": {
    "name": "ipython",
    "version": 3
   },
   "file_extension": ".py",
   "mimetype": "text/x-python",
   "name": "python",
   "nbconvert_exporter": "python",
   "pygments_lexer": "ipython3",
   "version": "3.6.5"
  },
  "latex_envs": {
   "LaTeX_envs_menu_present": true,
   "autoclose": false,
   "autocomplete": true,
   "bibliofile": "biblio.bib",
   "cite_by": "apalike",
   "current_citInitial": 1,
   "eqLabelWithNumbers": true,
   "eqNumInitial": 1,
   "hotkeys": {
    "equation": "Ctrl-E",
    "itemize": "Ctrl-I"
   },
   "labels_anchors": false,
   "latex_user_defs": false,
   "report_style_numbering": false,
   "user_envs_cfg": false
  }
 },
 "nbformat": 4,
 "nbformat_minor": 5
}
